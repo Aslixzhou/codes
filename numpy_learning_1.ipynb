{
 "cells": [
  {
   "cell_type": "markdown",
   "id": "53de1705",
   "metadata": {},
   "source": [
    "# Numpy Code"
   ]
  },
  {
   "cell_type": "code",
   "execution_count": 1,
   "id": "e8f77620",
   "metadata": {},
   "outputs": [],
   "source": [
    "import numpy as np"
   ]
  },
  {
   "cell_type": "markdown",
   "id": "b6acb9c0",
   "metadata": {},
   "source": [
    "**生成数组**"
   ]
  },
  {
   "cell_type": "code",
   "execution_count": 2,
   "id": "ec71a3aa",
   "metadata": {},
   "outputs": [],
   "source": [
    "a = np.array([[1,2,3],[4,5,6]])\n",
    "b = np.array([1,2,3,4])\n",
    "c = np.array([[[1,2,3],[4,5,6]],[[1,2,3],[4,5,6]]])"
   ]
  },
  {
   "cell_type": "markdown",
   "id": "3d7218cb",
   "metadata": {},
   "source": [
    "**数组维度的元组**"
   ]
  },
  {
   "cell_type": "code",
   "execution_count": 240,
   "id": "c9b5d1e9",
   "metadata": {},
   "outputs": [
    {
     "name": "stdout",
     "output_type": "stream",
     "text": [
      "(2, 3)\n",
      "(4,)\n",
      "(2, 2, 3)\n",
      "int32\n"
     ]
    }
   ],
   "source": [
    "print(a.shape)\n",
    "print(b.shape)\n",
    "print(c.shape)\n",
    "print(c.dtype)"
   ]
  },
  {
   "cell_type": "markdown",
   "id": "8df75445",
   "metadata": {},
   "source": [
    "**数组的维数**"
   ]
  },
  {
   "cell_type": "code",
   "execution_count": 16,
   "id": "cb87fd0d",
   "metadata": {},
   "outputs": [
    {
     "name": "stdout",
     "output_type": "stream",
     "text": [
      "2\n",
      "1\n",
      "3\n"
     ]
    }
   ],
   "source": [
    "print(a.ndim)\n",
    "print(b.ndim)\n",
    "print(c.ndim)"
   ]
  },
  {
   "cell_type": "markdown",
   "id": "62795180",
   "metadata": {},
   "source": [
    "**数组的元素数量**"
   ]
  },
  {
   "cell_type": "code",
   "execution_count": 25,
   "id": "782af734",
   "metadata": {},
   "outputs": [
    {
     "name": "stdout",
     "output_type": "stream",
     "text": [
      "6\n",
      "4\n",
      "12\n"
     ]
    }
   ],
   "source": [
    "print(a.size)\n",
    "print(b.size)\n",
    "print(c.size)"
   ]
  },
  {
   "cell_type": "markdown",
   "id": "d4fa2019",
   "metadata": {},
   "source": [
    "**一个数组元素的字节长度**"
   ]
  },
  {
   "cell_type": "code",
   "execution_count": 19,
   "id": "cf89e38b",
   "metadata": {},
   "outputs": [
    {
     "name": "stdout",
     "output_type": "stream",
     "text": [
      "[[1 2 3]\n",
      " [4 5 6]]\n",
      "4\n"
     ]
    }
   ],
   "source": [
    "print(a)\n",
    "print(a.itemsize)"
   ]
  },
  {
   "cell_type": "markdown",
   "id": "b625a73f",
   "metadata": {},
   "source": [
    "**数组元素的类型**"
   ]
  },
  {
   "cell_type": "code",
   "execution_count": 20,
   "id": "414be1a8",
   "metadata": {},
   "outputs": [
    {
     "name": "stdout",
     "output_type": "stream",
     "text": [
      "[[1 2 3]\n",
      " [4 5 6]]\n",
      "int32\n"
     ]
    }
   ],
   "source": [
    "print(a)\n",
    "print(a.dtype)"
   ]
  },
  {
   "cell_type": "markdown",
   "id": "5c4eae48",
   "metadata": {},
   "source": [
    "**指定数组类型**"
   ]
  },
  {
   "cell_type": "code",
   "execution_count": 23,
   "id": "38045e16",
   "metadata": {},
   "outputs": [
    {
     "name": "stdout",
     "output_type": "stream",
     "text": [
      "[1. 2. 3.]\n",
      "float32\n"
     ]
    }
   ],
   "source": [
    "d = np.array([1,2,3],dtype=np.float32)\n",
    "print(d)\n",
    "print(d.dtype)"
   ]
  },
  {
   "cell_type": "markdown",
   "id": "0980f866",
   "metadata": {},
   "source": [
    "**生成01数组**"
   ]
  },
  {
   "cell_type": "code",
   "execution_count": 26,
   "id": "57a031e5",
   "metadata": {},
   "outputs": [
    {
     "data": {
      "text/plain": [
       "array([[1., 1., 1., 1., 1., 1., 1., 1.],\n",
       "       [1., 1., 1., 1., 1., 1., 1., 1.],\n",
       "       [1., 1., 1., 1., 1., 1., 1., 1.],\n",
       "       [1., 1., 1., 1., 1., 1., 1., 1.]])"
      ]
     },
     "execution_count": 26,
     "metadata": {},
     "output_type": "execute_result"
    }
   ],
   "source": [
    "np.ones([4,8])"
   ]
  },
  {
   "cell_type": "code",
   "execution_count": 29,
   "id": "9af6423b",
   "metadata": {},
   "outputs": [
    {
     "data": {
      "text/plain": [
       "array([[[1, 1, 1, 1],\n",
       "        [1, 1, 1, 1]],\n",
       "\n",
       "       [[1, 1, 1, 1],\n",
       "        [1, 1, 1, 1]],\n",
       "\n",
       "       [[1, 1, 1, 1],\n",
       "        [1, 1, 1, 1]]], dtype=int8)"
      ]
     },
     "execution_count": 29,
     "metadata": {},
     "output_type": "execute_result"
    }
   ],
   "source": [
    "np.ones([3,2,4],np.int8) # 3个2行4列的2维数组构成的3维数组"
   ]
  },
  {
   "cell_type": "code",
   "execution_count": 30,
   "id": "887810e4",
   "metadata": {},
   "outputs": [
    {
     "data": {
      "text/plain": [
       "array([[1., 1.]])"
      ]
     },
     "execution_count": 30,
     "metadata": {},
     "output_type": "execute_result"
    }
   ],
   "source": [
    "np.ones([1,2])"
   ]
  },
  {
   "cell_type": "code",
   "execution_count": 31,
   "id": "cbec1a3a",
   "metadata": {},
   "outputs": [
    {
     "data": {
      "text/plain": [
       "array([[[0, 0, 0, 0],\n",
       "        [0, 0, 0, 0]],\n",
       "\n",
       "       [[0, 0, 0, 0],\n",
       "        [0, 0, 0, 0]],\n",
       "\n",
       "       [[0, 0, 0, 0],\n",
       "        [0, 0, 0, 0]]], dtype=int8)"
      ]
     },
     "execution_count": 31,
     "metadata": {},
     "output_type": "execute_result"
    }
   ],
   "source": [
    "np.zeros([3,2,4],np.int8)"
   ]
  },
  {
   "cell_type": "code",
   "execution_count": 34,
   "id": "9664d7b5",
   "metadata": {},
   "outputs": [
    {
     "name": "stdout",
     "output_type": "stream",
     "text": [
      "[[1 2 3]\n",
      " [4 5 6]]\n"
     ]
    }
   ],
   "source": [
    "print(a)"
   ]
  },
  {
   "cell_type": "code",
   "execution_count": 33,
   "id": "5ac81c12",
   "metadata": {},
   "outputs": [
    {
     "name": "stdout",
     "output_type": "stream",
     "text": [
      "[[1. 1. 1.]\n",
      " [1. 1. 1.]]\n"
     ]
    }
   ],
   "source": [
    "print(np.ones_like(a,np.float32))"
   ]
  },
  {
   "cell_type": "code",
   "execution_count": 35,
   "id": "560c28e1",
   "metadata": {},
   "outputs": [
    {
     "name": "stdout",
     "output_type": "stream",
     "text": [
      "[[0 0 0]\n",
      " [0 0 0]]\n"
     ]
    }
   ],
   "source": [
    "print(np.zeros_like(a))"
   ]
  },
  {
   "cell_type": "markdown",
   "id": "aa7aa837",
   "metadata": {},
   "source": [
    "**数组的深浅拷贝**"
   ]
  },
  {
   "cell_type": "code",
   "execution_count": 47,
   "id": "fda3af0e",
   "metadata": {},
   "outputs": [
    {
     "name": "stdout",
     "output_type": "stream",
     "text": [
      "[[1 2 3]\n",
      " [4 5 6]]\n"
     ]
    }
   ],
   "source": [
    "print(a)"
   ]
  },
  {
   "cell_type": "code",
   "execution_count": 37,
   "id": "49b58b3f",
   "metadata": {},
   "outputs": [],
   "source": [
    "a0 = np.array(a) # 新建"
   ]
  },
  {
   "cell_type": "code",
   "execution_count": 38,
   "id": "1cae4350",
   "metadata": {},
   "outputs": [
    {
     "name": "stdout",
     "output_type": "stream",
     "text": [
      "[[ True  True  True]\n",
      " [ True  True  True]]\n"
     ]
    }
   ],
   "source": [
    "print(a0)\n",
    "print(a0==a)"
   ]
  },
  {
   "cell_type": "code",
   "execution_count": 40,
   "id": "9bd396df",
   "metadata": {},
   "outputs": [
    {
     "name": "stdout",
     "output_type": "stream",
     "text": [
      "False\n"
     ]
    }
   ],
   "source": [
    "print(a0 is a)"
   ]
  },
  {
   "cell_type": "code",
   "execution_count": 48,
   "id": "aaf81445",
   "metadata": {},
   "outputs": [
    {
     "name": "stdout",
     "output_type": "stream",
     "text": [
      "[[1 2 3]\n",
      " [4 5 6]]\n",
      "[[ True  True  True]\n",
      " [ True  True  True]]\n",
      "True\n",
      "[[9 2 3]\n",
      " [4 5 6]]\n"
     ]
    }
   ],
   "source": [
    "a1 = np.asarray(a) # 索引\n",
    "print(a1)\n",
    "print(a1==a)\n",
    "print(a1 is a)\n",
    "a1[0,0] = 9\n",
    "print(a)"
   ]
  },
  {
   "cell_type": "markdown",
   "id": "07bb65f9",
   "metadata": {},
   "source": [
    "**生成固定范围数组**"
   ]
  },
  {
   "cell_type": "code",
   "execution_count": 185,
   "id": "9ef2ec42",
   "metadata": {},
   "outputs": [
    {
     "name": "stdout",
     "output_type": "stream",
     "text": [
      "[0 1 2 3 4 5 6 7 8 9]\n",
      "[[0 1 2 3 4 5 6 7 8 9]]\n",
      "[[[0 1 2 3 4]]\n",
      "\n",
      " [[5 6 7 8 9]]]\n"
     ]
    }
   ],
   "source": [
    "print(np.arange(10))\n",
    "print(np.arange(10).reshape(1,-1)) # 转为二维数组\n",
    "print(np.arange(10).reshape(-1,1,5)) # 转为三维数组"
   ]
  },
  {
   "cell_type": "markdown",
   "id": "33f71612",
   "metadata": {},
   "source": [
    "**等间隔数组**"
   ]
  },
  {
   "cell_type": "code",
   "execution_count": 186,
   "id": "065cac5f",
   "metadata": {},
   "outputs": [
    {
     "data": {
      "text/plain": [
       "array([10, 11, 12, 13, 14, 15, 16, 17, 18, 19])"
      ]
     },
     "execution_count": 186,
     "metadata": {},
     "output_type": "execute_result"
    }
   ],
   "source": [
    "np.arange(10,20)"
   ]
  },
  {
   "cell_type": "code",
   "execution_count": 53,
   "id": "8b80516c",
   "metadata": {},
   "outputs": [
    {
     "data": {
      "text/plain": [
       "array([  0.,  22.,  44.,  66.,  88., 110.])"
      ]
     },
     "execution_count": 53,
     "metadata": {},
     "output_type": "execute_result"
    }
   ],
   "source": [
    " np.linspace(0,110,6,endpoint=1) # 起始 终止 等间隔样例数量 是否包含起始终止(默认true)"
   ]
  },
  {
   "cell_type": "code",
   "execution_count": 55,
   "id": "094beaf2",
   "metadata": {},
   "outputs": [
    {
     "data": {
      "text/plain": [
       "array([  0.,  10.,  20.,  30.,  40.,  50.,  60.,  70.,  80.,  90., 100.])"
      ]
     },
     "execution_count": 55,
     "metadata": {},
     "output_type": "execute_result"
    }
   ],
   "source": [
    "np.linspace(0,100,11) "
   ]
  },
  {
   "cell_type": "markdown",
   "id": "39d1eeeb",
   "metadata": {},
   "source": [
    "**等差数组**"
   ]
  },
  {
   "cell_type": "code",
   "execution_count": 56,
   "id": "8c576221",
   "metadata": {},
   "outputs": [
    {
     "data": {
      "text/plain": [
       "array([10, 12, 14, 16, 18, 20, 22, 24, 26, 28, 30, 32, 34, 36, 38, 40, 42,\n",
       "       44, 46, 48])"
      ]
     },
     "execution_count": 56,
     "metadata": {},
     "output_type": "execute_result"
    }
   ],
   "source": [
    "np.arange(10, 50, 2) # np.arange(start,stop, step, dtype)"
   ]
  },
  {
   "cell_type": "markdown",
   "id": "4dcdc819",
   "metadata": {},
   "source": [
    "**等比数组**"
   ]
  },
  {
   "cell_type": "code",
   "execution_count": 57,
   "id": "3634ddbc",
   "metadata": {},
   "outputs": [
    {
     "data": {
      "text/plain": [
       "array([  1.,  10., 100.])"
      ]
     },
     "execution_count": 57,
     "metadata": {},
     "output_type": "execute_result"
    }
   ],
   "source": [
    "np.logspace(0, 2, 3) # np.logspace(start,stop, num)"
   ]
  },
  {
   "cell_type": "markdown",
   "id": "29f3b87f",
   "metadata": {},
   "source": [
    "**随机数组**\n",
    "**正态分布**"
   ]
  },
  {
   "cell_type": "code",
   "execution_count": 61,
   "id": "fcaf9e7f",
   "metadata": {},
   "outputs": [
    {
     "data": {
      "text/plain": [
       "array([-1.58278352, -1.22824901, -1.73810297])"
      ]
     },
     "execution_count": 61,
     "metadata": {},
     "output_type": "execute_result"
    }
   ],
   "source": [
    "np.random.randn(3) # np.random.randn(d0, d1, …, dn) 从标准正态分布中返回一个或多个样本值"
   ]
  },
  {
   "cell_type": "code",
   "execution_count": 63,
   "id": "0a4992de",
   "metadata": {},
   "outputs": [
    {
     "data": {
      "text/plain": [
       "array([[ 1.45734793, -0.26869562, -1.29498974],\n",
       "       [ 0.01314812,  0.35252312,  0.61491474]])"
      ]
     },
     "execution_count": 63,
     "metadata": {},
     "output_type": "execute_result"
    }
   ],
   "source": [
    "np.random.randn(2,3)"
   ]
  },
  {
   "cell_type": "code",
   "execution_count": 64,
   "id": "47b3fdc0",
   "metadata": {},
   "outputs": [
    {
     "data": {
      "text/plain": [
       "array([[5.6650171 , 4.60778785, 6.45880499],\n",
       "       [4.67182236, 5.03771782, 5.54806319]])"
      ]
     },
     "execution_count": 64,
     "metadata": {},
     "output_type": "execute_result"
    }
   ],
   "source": [
    "np.random.normal(5,1.2,(2,3))# np.random.normal(loc=0.0, scale=1.0, size=None) 均值 标准差 大小"
   ]
  },
  {
   "cell_type": "code",
   "execution_count": 65,
   "id": "d803ce7f",
   "metadata": {},
   "outputs": [
    {
     "data": {
      "text/plain": [
       "-0.4643522522001784"
      ]
     },
     "execution_count": 65,
     "metadata": {},
     "output_type": "execute_result"
    }
   ],
   "source": [
    "np.random.normal()"
   ]
  },
  {
   "cell_type": "markdown",
   "id": "3f2de5eb",
   "metadata": {},
   "source": [
    "**随机数组**\n",
    "**均匀分布**"
   ]
  },
  {
   "cell_type": "code",
   "execution_count": 66,
   "id": "853120ce",
   "metadata": {},
   "outputs": [
    {
     "data": {
      "text/plain": [
       "array([0.76342996, 0.00906629, 0.27568076])"
      ]
     },
     "execution_count": 66,
     "metadata": {},
     "output_type": "execute_result"
    }
   ],
   "source": [
    "np.random.rand(3)# np.random.rand(d0, d1, ..., dn) [0.0，1.0)内的一组均匀分布的数"
   ]
  },
  {
   "cell_type": "code",
   "execution_count": 67,
   "id": "7beb2b2f",
   "metadata": {},
   "outputs": [
    {
     "data": {
      "text/plain": [
       "2"
      ]
     },
     "execution_count": 67,
     "metadata": {},
     "output_type": "execute_result"
    }
   ],
   "source": [
    "# np.random.randint(low, high=None, size=None, dtype='l')\n",
    "# 从一个均匀分布中随机采样，生成一个整数或N维整数数组，\n",
    "# 取数范围：若high不为None时，取[low,high)之间随机整数，否则取值[0,low)之间随机整数。\n",
    "np.random.randint(3)"
   ]
  },
  {
   "cell_type": "code",
   "execution_count": 68,
   "id": "b94d9927",
   "metadata": {},
   "outputs": [
    {
     "data": {
      "text/plain": [
       "array([[-3, -2,  2],\n",
       "       [ 0,  1, -2]])"
      ]
     },
     "execution_count": 68,
     "metadata": {},
     "output_type": "execute_result"
    }
   ],
   "source": [
    "np.random.randint(-3,7,(2,3))"
   ]
  },
  {
   "cell_type": "code",
   "execution_count": 69,
   "id": "8431ba50",
   "metadata": {},
   "outputs": [
    {
     "data": {
      "text/plain": [
       "0.3650120220111588"
      ]
     },
     "execution_count": 69,
     "metadata": {},
     "output_type": "execute_result"
    }
   ],
   "source": [
    "np.random.uniform()# np.random.uniform(low=0.0, high=1.0, size=None) 从一个均匀分布[low,high)中随机采样"
   ]
  },
  {
   "cell_type": "code",
   "execution_count": 71,
   "id": "0ac793e8",
   "metadata": {},
   "outputs": [
    {
     "data": {
      "text/plain": [
       "array([[[1.89630301],\n",
       "        [1.31614857],\n",
       "        [1.36316608]],\n",
       "\n",
       "       [[1.73281475],\n",
       "        [1.38368307],\n",
       "        [1.68603794]]])"
      ]
     },
     "execution_count": 71,
     "metadata": {},
     "output_type": "execute_result"
    }
   ],
   "source": [
    "np.random.uniform(1,2,(2,3,1))"
   ]
  },
  {
   "cell_type": "markdown",
   "id": "9c080def",
   "metadata": {},
   "source": [
    "**数组索引与切片**"
   ]
  },
  {
   "cell_type": "code",
   "execution_count": 84,
   "id": "950db5ba",
   "metadata": {},
   "outputs": [
    {
     "name": "stdout",
     "output_type": "stream",
     "text": [
      "[2 3 1 8]\n",
      "2\n",
      "[3 1]\n",
      "[6 5 7 4]\n",
      "[1 7]\n",
      "[[2 3 1 8]\n",
      " [6 5 7 4]]\n"
     ]
    }
   ],
   "source": [
    "n = np.array([[2,3,1,8],[6,5,7,4]])\n",
    "print(n[0])\n",
    "print(n[0][0])\n",
    "print(n[0,1:3]) # [1,3)\n",
    "print(n[1,:]) # 第1行\n",
    "print(n[:,2]) # 第2列\n",
    "print(n[:,:]) # all"
   ]
  },
  {
   "cell_type": "code",
   "execution_count": 91,
   "id": "82f3aca2",
   "metadata": {},
   "outputs": [
    {
     "name": "stdout",
     "output_type": "stream",
     "text": [
      "2\n",
      "[5 8]\n"
     ]
    }
   ],
   "source": [
    "n1 = np.array([ [[1,2,3],[4,5,6]], [[12,3,34],[9,8,7]]])\n",
    "print(n1[0,0,1])\n",
    "print(n1[:,1,1]) # 2个二维的第1行第1列数字"
   ]
  },
  {
   "cell_type": "code",
   "execution_count": 188,
   "id": "aaf3c537",
   "metadata": {},
   "outputs": [
    {
     "data": {
      "text/plain": [
       "array([[ 1,  2,  3,  4,  5,  6],\n",
       "       [12,  3, 34,  9,  8,  7]])"
      ]
     },
     "execution_count": 188,
     "metadata": {},
     "output_type": "execute_result"
    }
   ],
   "source": [
    "n1"
   ]
  },
  {
   "cell_type": "code",
   "execution_count": 194,
   "id": "5cb31ae3",
   "metadata": {},
   "outputs": [
    {
     "name": "stdout",
     "output_type": "stream",
     "text": [
      "[[12  3 34  9  8  7]]\n",
      "[[34  9  8  7]]\n",
      "[[ 2  3  4]\n",
      " [ 3 34  9]]\n"
     ]
    }
   ],
   "source": [
    "print(n1[1:4,:]) # 从索引[1]开始，切到索引[4]之前\n",
    "print(n1[1:,2:]) # 从索引[1]开始，切到结尾\n",
    "print(n1[:2,1:4]) # 从数组开头开始，切到索引[4]之前"
   ]
  },
  {
   "cell_type": "code",
   "execution_count": 199,
   "id": "0c857230",
   "metadata": {},
   "outputs": [
    {
     "name": "stdout",
     "output_type": "stream",
     "text": [
      "[ 1  2  3  4  5  6 12  3 34  9  8  7]\n",
      "[ 3  4  5  6 12  3 34  9]\n",
      "[ 3  4  5  6 12  3 34  9  8  7]\n",
      "[ 1  2  3  4  5  6 12  3 34  9]\n"
     ]
    }
   ],
   "source": [
    "n1.resize(12)\n",
    "print(n1)\n",
    "print(n1[2:-2]) # 切除开头 2 个和结尾 2 个\n",
    "print(n1[2:]) # 切除开头 2 个\n",
    "print(n1[:-2]) # 切除结尾 2 个"
   ]
  },
  {
   "cell_type": "code",
   "execution_count": 201,
   "id": "30388e7f",
   "metadata": {},
   "outputs": [
    {
     "name": "stdout",
     "output_type": "stream",
     "text": [
      "[ 1  2  3  4  5  6 12  3 34  9  8  7]\n",
      "[ 1  3  5 12 34  8]\n",
      "[ 1  4 12  9]\n",
      "[2 4 6 3 9]\n"
     ]
    }
   ],
   "source": [
    "print(n1)\n",
    "print(n1[::2]) # 每 2 个元素采样一次\n",
    "print(n1[::3]) # 每 3 个元素采样一次\n",
    "print(n1[1:-1:2]) # 切除一头一尾后，每 2 个元素采样一次"
   ]
  },
  {
   "cell_type": "code",
   "execution_count": 204,
   "id": "010ac8c0",
   "metadata": {},
   "outputs": [
    {
     "name": "stdout",
     "output_type": "stream",
     "text": [
      "[[ 7  8  9]\n",
      " [12 13 14]]\n",
      "[[ 1  3  5]\n",
      " [16 18 20]]\n",
      "[11 12 13 14 15]\n",
      "[[ 6  7  8  9 10]\n",
      " [11 12 13 14 15]]\n",
      "[11 12 13 14 15]\n"
     ]
    }
   ],
   "source": [
    "e = np.arange(1,21).reshape(4,5)\n",
    "print(e[1:3,1:-1]) \n",
    "print(e[::3,::2]) \n",
    "print(e[2,:]) # 提取第 2 行\n",
    "print(e[1:3,:]) # 提取 1 至 2 行\n",
    "print(e[2]) # 简便的提取行"
   ]
  },
  {
   "cell_type": "code",
   "execution_count": 209,
   "id": "0804240e",
   "metadata": {},
   "outputs": [
    {
     "name": "stdout",
     "output_type": "stream",
     "text": [
      "[[ 1  2  3  4  5]\n",
      " [ 6  7  8  9 10]\n",
      " [11 12 13 14 15]\n",
      " [16 17 18 19 20]]\n",
      "(3, 1)\n",
      "[[ 1]\n",
      " [ 9]\n",
      " [11]]\n",
      "[[ 1]\n",
      " [ 6]\n",
      " [11]]\n"
     ]
    }
   ],
   "source": [
    "# 数组切片仅是视图\n",
    "print(e)\n",
    "copy = e[:3,:1].copy() # 备份切片为新变量\n",
    "print(copy.shape)\n",
    "copy[1][0]=9\n",
    "print(copy)\n",
    "print(e[:3,:1])"
   ]
  },
  {
   "cell_type": "markdown",
   "id": "3fce0945",
   "metadata": {},
   "source": [
    "**翻转**"
   ]
  },
  {
   "cell_type": "code",
   "execution_count": 210,
   "id": "1907294d",
   "metadata": {},
   "outputs": [
    {
     "data": {
      "text/plain": [
       "array([0, 1, 2, 3, 4, 5, 6, 7, 8, 9])"
      ]
     },
     "execution_count": 210,
     "metadata": {},
     "output_type": "execute_result"
    }
   ],
   "source": [
    "np.arange(10)"
   ]
  },
  {
   "cell_type": "code",
   "execution_count": 211,
   "id": "63a02bdc",
   "metadata": {},
   "outputs": [
    {
     "data": {
      "text/plain": [
       "array([9, 8, 7, 6, 5, 4, 3, 2, 1, 0])"
      ]
     },
     "execution_count": 211,
     "metadata": {},
     "output_type": "execute_result"
    }
   ],
   "source": [
    "np.flipud(np.arange(10)) # 向量翻转"
   ]
  },
  {
   "cell_type": "code",
   "execution_count": 212,
   "id": "700779e1",
   "metadata": {},
   "outputs": [
    {
     "data": {
      "text/plain": [
       "array([[ 1,  2,  3,  4,  5],\n",
       "       [ 6,  7,  8,  9, 10],\n",
       "       [11, 12, 13, 14, 15],\n",
       "       [16, 17, 18, 19, 20]])"
      ]
     },
     "execution_count": 212,
     "metadata": {},
     "output_type": "execute_result"
    }
   ],
   "source": [
    "np.arange(1,21).reshape(4,5)"
   ]
  },
  {
   "cell_type": "code",
   "execution_count": 213,
   "id": "e8e8b2ba",
   "metadata": {},
   "outputs": [
    {
     "data": {
      "text/plain": [
       "array([[ 5,  4,  3,  2,  1],\n",
       "       [10,  9,  8,  7,  6],\n",
       "       [15, 14, 13, 12, 11],\n",
       "       [20, 19, 18, 17, 16]])"
      ]
     },
     "execution_count": 213,
     "metadata": {},
     "output_type": "execute_result"
    }
   ],
   "source": [
    "np.fliplr(np.arange(1,21).reshape(4,5)) # 左右翻转"
   ]
  },
  {
   "cell_type": "code",
   "execution_count": 214,
   "id": "b173f4a3",
   "metadata": {},
   "outputs": [
    {
     "data": {
      "text/plain": [
       "array([[16, 17, 18, 19, 20],\n",
       "       [11, 12, 13, 14, 15],\n",
       "       [ 6,  7,  8,  9, 10],\n",
       "       [ 1,  2,  3,  4,  5]])"
      ]
     },
     "execution_count": 214,
     "metadata": {},
     "output_type": "execute_result"
    }
   ],
   "source": [
    "np.flipud(np.arange(1,21).reshape(4,5)) # 上下翻转"
   ]
  },
  {
   "cell_type": "code",
   "execution_count": 215,
   "id": "cadf94ae",
   "metadata": {},
   "outputs": [
    {
     "data": {
      "text/plain": [
       "array([1, 2, 3, 4, 5, 6])"
      ]
     },
     "execution_count": 215,
     "metadata": {},
     "output_type": "execute_result"
    }
   ],
   "source": [
    "np.concatenate( [ np.array([1,2,3]),np.array([4,5,6]) ] )# 向量拼接"
   ]
  },
  {
   "cell_type": "code",
   "execution_count": 216,
   "id": "e3880b42",
   "metadata": {},
   "outputs": [
    {
     "name": "stdout",
     "output_type": "stream",
     "text": [
      "[[ 1  2  3]\n",
      " [ 4  5  6]\n",
      " [ 7  8  9]\n",
      " [10 11 12]]\n",
      "[[ 1  2  3  7  8  9]\n",
      " [ 4  5  6 10 11 12]]\n"
     ]
    }
   ],
   "source": [
    "# 矩阵拼接\n",
    "A = np.array( [[1,2,3],[ 4,5,6]] )\n",
    "B = np.array( [[7,8,9],[10,11,12]] )\n",
    "print(np.concatenate( [A,B] )) # axis=0 按行拼接\n",
    "print(np.concatenate( [A,B], axis=1 )) # axis=1 按列拼接"
   ]
  },
  {
   "cell_type": "markdown",
   "id": "60af8ca9",
   "metadata": {},
   "source": [
    "**分裂**"
   ]
  },
  {
   "cell_type": "code",
   "execution_count": 217,
   "id": "a37c091c",
   "metadata": {},
   "outputs": [
    {
     "data": {
      "text/plain": [
       "[array([10, 20]), array([30, 40, 50, 60, 70, 80]), array([90])]"
      ]
     },
     "execution_count": 217,
     "metadata": {},
     "output_type": "execute_result"
    }
   ],
   "source": [
    " np.split( np.arange(10,100,10) , [2,8] ) # 在索引[2]和索引[8]的位置截断"
   ]
  },
  {
   "cell_type": "code",
   "execution_count": 218,
   "id": "e2ed8c89",
   "metadata": {},
   "outputs": [
    {
     "data": {
      "text/plain": [
       "array([[1, 2, 3, 4],\n",
       "       [5, 6, 7, 8]])"
      ]
     },
     "execution_count": 218,
     "metadata": {},
     "output_type": "execute_result"
    }
   ],
   "source": [
    "np.arange(1,9).reshape(2,4)"
   ]
  },
  {
   "cell_type": "code",
   "execution_count": 221,
   "id": "d4873958",
   "metadata": {},
   "outputs": [
    {
     "name": "stdout",
     "output_type": "stream",
     "text": [
      "[array([[1, 2, 3, 4]]), array([[5, 6, 7, 8]])]\n"
     ]
    }
   ],
   "source": [
    "# 按第一个维度（行）分裂\n",
    "# 默认参数 axis=0\n",
    "print( np.split(np.arange(1,9).reshape(2,4),[1])) # 注意输出的是矩阵"
   ]
  },
  {
   "cell_type": "code",
   "execution_count": 227,
   "id": "1130deaf",
   "metadata": {},
   "outputs": [
    {
     "name": "stdout",
     "output_type": "stream",
     "text": [
      "[array([[1],\n",
      "       [5]]), array([[2, 3],\n",
      "       [6, 7]]), array([[4],\n",
      "       [8]])]\n"
     ]
    }
   ],
   "source": [
    "# 按第二个维度（列）分裂\n",
    "print( np.split( np.arange(1,9).reshape(2,4) , [1,3] , axis=1 ))"
   ]
  },
  {
   "cell_type": "markdown",
   "id": "a9e2bc4d",
   "metadata": {},
   "source": [
    "**修改形状**"
   ]
  },
  {
   "cell_type": "code",
   "execution_count": 92,
   "id": "768884f3",
   "metadata": {},
   "outputs": [
    {
     "data": {
      "text/plain": [
       "array([[[ 1,  2,  3],\n",
       "        [ 4,  5,  6]],\n",
       "\n",
       "       [[12,  3, 34],\n",
       "        [ 9,  8,  7]]])"
      ]
     },
     "execution_count": 92,
     "metadata": {},
     "output_type": "execute_result"
    }
   ],
   "source": [
    "n1"
   ]
  },
  {
   "cell_type": "code",
   "execution_count": 93,
   "id": "ba4dfa51",
   "metadata": {},
   "outputs": [
    {
     "data": {
      "text/plain": [
       "array([[ 1,  2,  3,  4,  5,  6],\n",
       "       [12,  3, 34,  9,  8,  7]])"
      ]
     },
     "execution_count": 93,
     "metadata": {},
     "output_type": "execute_result"
    }
   ],
   "source": [
    "n1.reshape([2,6]) # 返回一个具有相同数据域"
   ]
  },
  {
   "cell_type": "code",
   "execution_count": 95,
   "id": "11f960be",
   "metadata": {},
   "outputs": [
    {
     "data": {
      "text/plain": [
       "array([ 1,  2,  3,  4,  5,  6, 12,  3, 34,  9,  8,  7])"
      ]
     },
     "execution_count": 95,
     "metadata": {},
     "output_type": "execute_result"
    }
   ],
   "source": [
    "n1.reshape(-1) # -1: 表示通过待计算"
   ]
  },
  {
   "cell_type": "code",
   "execution_count": 111,
   "id": "bfcac7e8",
   "metadata": {},
   "outputs": [
    {
     "data": {
      "text/plain": [
       "array([[ 1,  2],\n",
       "       [ 3,  4],\n",
       "       [ 5,  6],\n",
       "       [12,  3],\n",
       "       [34,  9],\n",
       "       [ 8,  7]])"
      ]
     },
     "execution_count": 111,
     "metadata": {},
     "output_type": "execute_result"
    }
   ],
   "source": [
    "n1.reshape([-1,2])"
   ]
  },
  {
   "cell_type": "code",
   "execution_count": 113,
   "id": "9c74222b",
   "metadata": {},
   "outputs": [
    {
     "name": "stdout",
     "output_type": "stream",
     "text": [
      "[[ 1  2  3  4  5  6]\n",
      " [12  3 34  9  8  7]]\n",
      "(2, 6)\n"
     ]
    }
   ],
   "source": [
    "n1.resize((2,6))\n",
    "print(n1)\n",
    "print(n1.shape)"
   ]
  },
  {
   "cell_type": "markdown",
   "id": "cbb226fa",
   "metadata": {},
   "source": [
    "**置换**"
   ]
  },
  {
   "cell_type": "code",
   "execution_count": 114,
   "id": "0bf195d6",
   "metadata": {},
   "outputs": [
    {
     "name": "stdout",
     "output_type": "stream",
     "text": [
      "[[ 1  2  3  4  5  6]\n",
      " [12  3 34  9  8  7]]\n"
     ]
    }
   ],
   "source": [
    "print(n1)"
   ]
  },
  {
   "cell_type": "code",
   "execution_count": 115,
   "id": "87f69e36",
   "metadata": {},
   "outputs": [
    {
     "name": "stdout",
     "output_type": "stream",
     "text": [
      "[[ 1 12]\n",
      " [ 2  3]\n",
      " [ 3 34]\n",
      " [ 4  9]\n",
      " [ 5  8]\n",
      " [ 6  7]]\n"
     ]
    }
   ],
   "source": [
    "print(n1.T)"
   ]
  },
  {
   "cell_type": "code",
   "execution_count": 121,
   "id": "2bb65c57",
   "metadata": {},
   "outputs": [
    {
     "name": "stdout",
     "output_type": "stream",
     "text": [
      "int32\n",
      "[[ 1.  2.  3.  4.  5.  6.]\n",
      " [12.  3. 34.  9.  8.  7.]] float32\n"
     ]
    }
   ],
   "source": [
    "print(n1.dtype)\n",
    "print(n1.astype(np.float32),n1.astype(np.float32).dtype)"
   ]
  },
  {
   "cell_type": "code",
   "execution_count": 122,
   "id": "9a8d87e3",
   "metadata": {},
   "outputs": [
    {
     "data": {
      "text/plain": [
       "b'\\x01\\x00\\x00\\x00\\x02\\x00\\x00\\x00\\x03\\x00\\x00\\x00\\x04\\x00\\x00\\x00\\x05\\x00\\x00\\x00\\x06\\x00\\x00\\x00\\x0c\\x00\\x00\\x00\\x03\\x00\\x00\\x00\"\\x00\\x00\\x00\\t\\x00\\x00\\x00\\x08\\x00\\x00\\x00\\x07\\x00\\x00\\x00'"
      ]
     },
     "execution_count": 122,
     "metadata": {},
     "output_type": "execute_result"
    }
   ],
   "source": [
    "n1.tobytes()"
   ]
  },
  {
   "cell_type": "markdown",
   "id": "5c1e625d",
   "metadata": {},
   "source": [
    "**去重**"
   ]
  },
  {
   "cell_type": "code",
   "execution_count": 128,
   "id": "63d4c45e",
   "metadata": {},
   "outputs": [],
   "source": [
    "n2 = np.array([[1,1,2,3],[2,4,3,7]])"
   ]
  },
  {
   "cell_type": "code",
   "execution_count": 130,
   "id": "621ad80b",
   "metadata": {},
   "outputs": [
    {
     "data": {
      "text/plain": [
       "array([1, 2, 3, 4, 7])"
      ]
     },
     "execution_count": 130,
     "metadata": {},
     "output_type": "execute_result"
    }
   ],
   "source": [
    "np.unique(n2)"
   ]
  },
  {
   "cell_type": "markdown",
   "id": "5b637e64",
   "metadata": {},
   "source": [
    "**运算**"
   ]
  },
  {
   "cell_type": "code",
   "execution_count": 131,
   "id": "1daa086d",
   "metadata": {},
   "outputs": [],
   "source": [
    "score = np.random.randint(40, 100, (10, 5)) # 生成10名同学，5门功课的数据"
   ]
  },
  {
   "cell_type": "code",
   "execution_count": 132,
   "id": "8313fbe9",
   "metadata": {},
   "outputs": [],
   "source": [
    "test_score = score[6:, 0:5] # 取出最后4名同学的成绩，用于逻辑判断"
   ]
  },
  {
   "cell_type": "code",
   "execution_count": 133,
   "id": "b80886f6",
   "metadata": {},
   "outputs": [
    {
     "data": {
      "text/plain": [
       "array([[89, 43, 63, 88, 83],\n",
       "       [94, 87, 66, 87, 88],\n",
       "       [90, 85, 62, 99, 74],\n",
       "       [40, 48, 80, 57, 78]])"
      ]
     },
     "execution_count": 133,
     "metadata": {},
     "output_type": "execute_result"
    }
   ],
   "source": [
    "test_score"
   ]
  },
  {
   "cell_type": "code",
   "execution_count": 134,
   "id": "28342ef7",
   "metadata": {},
   "outputs": [
    {
     "data": {
      "text/plain": [
       "array([[ True, False,  True,  True,  True],\n",
       "       [ True,  True,  True,  True,  True],\n",
       "       [ True,  True,  True,  True,  True],\n",
       "       [False, False,  True, False,  True]])"
      ]
     },
     "execution_count": 134,
     "metadata": {},
     "output_type": "execute_result"
    }
   ],
   "source": [
    "test_score > 60"
   ]
  },
  {
   "cell_type": "code",
   "execution_count": 135,
   "id": "616eaa3c",
   "metadata": {},
   "outputs": [],
   "source": [
    "test_score[test_score > 60] = 1"
   ]
  },
  {
   "cell_type": "code",
   "execution_count": 136,
   "id": "50fa3ae6",
   "metadata": {},
   "outputs": [
    {
     "data": {
      "text/plain": [
       "array([[ 1, 43,  1,  1,  1],\n",
       "       [ 1,  1,  1,  1,  1],\n",
       "       [ 1,  1,  1,  1,  1],\n",
       "       [40, 48,  1, 57,  1]])"
      ]
     },
     "execution_count": 136,
     "metadata": {},
     "output_type": "execute_result"
    }
   ],
   "source": [
    "test_score"
   ]
  },
  {
   "cell_type": "markdown",
   "id": "cb354ea0",
   "metadata": {},
   "source": [
    "**判断函数**"
   ]
  },
  {
   "cell_type": "code",
   "execution_count": 137,
   "id": "c3c11111",
   "metadata": {},
   "outputs": [
    {
     "data": {
      "text/plain": [
       "True"
      ]
     },
     "execution_count": 137,
     "metadata": {},
     "output_type": "execute_result"
    }
   ],
   "source": [
    "np.all(test_score>0) # 是否所有"
   ]
  },
  {
   "cell_type": "code",
   "execution_count": 237,
   "id": "c6b95301",
   "metadata": {},
   "outputs": [
    {
     "name": "stdout",
     "output_type": "stream",
     "text": [
      "[[ True  True  True  True  True]\n",
      " [ True  True  True  True  True]\n",
      " [ True  True  True  True  True]\n",
      " [ True  True  True  True  True]]\n"
     ]
    }
   ],
   "source": [
    "print( (test_score < 4) | (test_score > 6) )"
   ]
  },
  {
   "cell_type": "code",
   "execution_count": 139,
   "id": "cdd5f2eb",
   "metadata": {},
   "outputs": [
    {
     "data": {
      "text/plain": [
       "False"
      ]
     },
     "execution_count": 139,
     "metadata": {},
     "output_type": "execute_result"
    }
   ],
   "source": [
    "np.any(test_score[0,:]==0) # 是否有一个"
   ]
  },
  {
   "cell_type": "code",
   "execution_count": 142,
   "id": "77dcd95e",
   "metadata": {},
   "outputs": [
    {
     "data": {
      "text/plain": [
       "array([[ 1, 43,  1],\n",
       "       [ 1,  1,  1]])"
      ]
     },
     "execution_count": 142,
     "metadata": {},
     "output_type": "execute_result"
    }
   ],
   "source": [
    "temp = test_score[:2,:3]\n",
    "temp"
   ]
  },
  {
   "cell_type": "code",
   "execution_count": 143,
   "id": "e1383663",
   "metadata": {},
   "outputs": [
    {
     "data": {
      "text/plain": [
       "array([[2, 0, 2],\n",
       "       [2, 2, 2]])"
      ]
     },
     "execution_count": 143,
     "metadata": {},
     "output_type": "execute_result"
    }
   ],
   "source": [
    "np.where(temp == 1, 2, 0) # 判断条件，是，否"
   ]
  },
  {
   "cell_type": "code",
   "execution_count": 145,
   "id": "3d828bd9",
   "metadata": {},
   "outputs": [
    {
     "data": {
      "text/plain": [
       "array([[1, 0, 1, 1, 0],\n",
       "       [0, 1, 0, 0, 0],\n",
       "       [1, 1, 1, 0, 1],\n",
       "       [1, 1, 1, 1, 1],\n",
       "       [0, 1, 0, 0, 0],\n",
       "       [1, 0, 1, 1, 1],\n",
       "       [1, 1, 1, 1, 1],\n",
       "       [1, 1, 1, 1, 1],\n",
       "       [1, 1, 1, 1, 1],\n",
       "       [1, 1, 1, 1, 1]])"
      ]
     },
     "execution_count": 145,
     "metadata": {},
     "output_type": "execute_result"
    }
   ],
   "source": [
    "# 成绩中大于60且小于90的换为1，否则为0\n",
    "np.where(np.logical_and(score > 60, score < 90), 1, 0)\n",
    "\n",
    "# 成绩中大于90或小于60的换为1，否则为0\n",
    "np.where(np.logical_or(score > 90, score < 60), 1, 0)"
   ]
  },
  {
   "cell_type": "markdown",
   "id": "97ea67cd",
   "metadata": {},
   "source": [
    "**统计运算**"
   ]
  },
  {
   "cell_type": "code",
   "execution_count": 153,
   "id": "d67db17b",
   "metadata": {},
   "outputs": [
    {
     "name": "stdout",
     "output_type": "stream",
     "text": [
      "[ 9 13 13  4  5 12 14 12 14 11]\n"
     ]
    }
   ],
   "source": [
    "s = np.random.randint(1,15,10)\n",
    "print(s)"
   ]
  },
  {
   "cell_type": "code",
   "execution_count": 157,
   "id": "a46fbfd5",
   "metadata": {},
   "outputs": [
    {
     "name": "stdout",
     "output_type": "stream",
     "text": [
      "14\n",
      "6\n",
      "4\n",
      "3\n",
      "10.7\n",
      "3.4073450074801643\n"
     ]
    }
   ],
   "source": [
    "print(np.max(s))\n",
    "print(np.argmax(s))\n",
    "print(np.min(s))\n",
    "print(np.argmin(s))\n",
    "print(np.mean(s)) # 平均\n",
    "print(np.std(s))"
   ]
  },
  {
   "cell_type": "code",
   "execution_count": 158,
   "id": "70a89a70",
   "metadata": {},
   "outputs": [],
   "source": [
    "s1 = np.random.randint(1,15,(3,5))"
   ]
  },
  {
   "cell_type": "code",
   "execution_count": 159,
   "id": "fe3421fd",
   "metadata": {},
   "outputs": [
    {
     "data": {
      "text/plain": [
       "array([[ 1,  2, 10,  7,  5],\n",
       "       [ 4, 12,  5,  2, 14],\n",
       "       [ 3,  8,  5,  5,  9]])"
      ]
     },
     "execution_count": 159,
     "metadata": {},
     "output_type": "execute_result"
    }
   ],
   "source": [
    "s1"
   ]
  },
  {
   "cell_type": "code",
   "execution_count": 160,
   "id": "edeea581",
   "metadata": {},
   "outputs": [
    {
     "name": "stdout",
     "output_type": "stream",
     "text": [
      "[10 14  9]\n"
     ]
    }
   ],
   "source": [
    "print(np.max(s1,1)) # axis=1 行"
   ]
  },
  {
   "cell_type": "code",
   "execution_count": 161,
   "id": "5a99b6c7",
   "metadata": {},
   "outputs": [
    {
     "name": "stdout",
     "output_type": "stream",
     "text": [
      "[ 4 12 10  7 14]\n"
     ]
    }
   ],
   "source": [
    "print(np.max(s1,0)) # axis=0 列"
   ]
  },
  {
   "cell_type": "code",
   "execution_count": 163,
   "id": "aebd9038",
   "metadata": {},
   "outputs": [
    {
     "name": "stdout",
     "output_type": "stream",
     "text": [
      "[2 4 4]\n"
     ]
    }
   ],
   "source": [
    "print(np.argmax(s1,1)) # 行下标"
   ]
  },
  {
   "cell_type": "markdown",
   "id": "11b47450",
   "metadata": {},
   "source": [
    "**数组与数的运算**"
   ]
  },
  {
   "cell_type": "code",
   "execution_count": 164,
   "id": "12a6329f",
   "metadata": {},
   "outputs": [
    {
     "data": {
      "text/plain": [
       "array([[ 1,  2, 10,  7,  5],\n",
       "       [ 4, 12,  5,  2, 14],\n",
       "       [ 3,  8,  5,  5,  9]])"
      ]
     },
     "execution_count": 164,
     "metadata": {},
     "output_type": "execute_result"
    }
   ],
   "source": [
    "s1"
   ]
  },
  {
   "cell_type": "code",
   "execution_count": 165,
   "id": "c4984366",
   "metadata": {},
   "outputs": [
    {
     "data": {
      "text/plain": [
       "array([[101, 102, 110, 107, 105],\n",
       "       [104, 112, 105, 102, 114],\n",
       "       [103, 108, 105, 105, 109]])"
      ]
     },
     "execution_count": 165,
     "metadata": {},
     "output_type": "execute_result"
    }
   ],
   "source": [
    "s1 + 100"
   ]
  },
  {
   "cell_type": "code",
   "execution_count": 167,
   "id": "2fb7c2db",
   "metadata": {},
   "outputs": [
    {
     "data": {
      "text/plain": [
       "array([[51., 52., 60., 57., 55.],\n",
       "       [54., 62., 55., 52., 64.],\n",
       "       [53., 58., 55., 55., 59.]])"
      ]
     },
     "execution_count": 167,
     "metadata": {},
     "output_type": "execute_result"
    }
   ],
   "source": [
    "s1 + 100 / 2"
   ]
  },
  {
   "cell_type": "markdown",
   "id": "b252022d",
   "metadata": {},
   "source": [
    "**数组运算**"
   ]
  },
  {
   "cell_type": "code",
   "execution_count": 230,
   "id": "f855fe49",
   "metadata": {},
   "outputs": [
    {
     "name": "stdout",
     "output_type": "stream",
     "text": [
      "[[-1 -2 -3 -4]\n",
      " [-5 -6 -7 -8]]\n",
      "[[1 2 3 4]\n",
      " [5 6 7 8]]\n",
      "[[ 1  4  9 16]\n",
      " [25 36 49 64]]\n"
     ]
    }
   ],
   "source": [
    "print( np.arange(-1,-9,-1).reshape(2,4))\n",
    "print( np.abs(np.arange(-1,-9,-1).reshape(2,4))) # 绝对值np.abs()\n",
    "print( np.arange(-1,-9,-1).reshape(2,4) *  np.arange(-1,-9,-1).reshape(2,4))"
   ]
  },
  {
   "cell_type": "code",
   "execution_count": 229,
   "id": "c765a975",
   "metadata": {},
   "outputs": [
    {
     "name": "stdout",
     "output_type": "stream",
     "text": [
      "[[0 0 0 0]\n",
      " [0 0 0 0]]\n"
     ]
    }
   ],
   "source": [
    "print( np.arange(-1,-9,-1).reshape(2,4) -  np.arange(-1,-9,-1).reshape(2,4))"
   ]
  },
  {
   "cell_type": "markdown",
   "id": "2a433c32",
   "metadata": {},
   "source": [
    "**内置函数**"
   ]
  },
  {
   "cell_type": "code",
   "execution_count": 231,
   "id": "ff41f945",
   "metadata": {},
   "outputs": [
    {
     "name": "stdout",
     "output_type": "stream",
     "text": [
      "原数组是： [0.         1.57079633 3.14159265]\n",
      "正弦值是： [0.0000000e+00 1.0000000e+00 1.2246468e-16]\n",
      "余弦值是： [ 1.000000e+00  6.123234e-17 -1.000000e+00]\n",
      "正切值是： [ 0.00000000e+00  1.63312394e+16 -1.22464680e-16]\n"
     ]
    }
   ],
   "source": [
    "# 三角函数\n",
    "theta = np.arange(3) * np.pi / 2\n",
    "sin_v = np.sin(theta)\n",
    "cos_v = np.cos(theta)\n",
    "tan_v = np.tan(theta)\n",
    "print( '原数组是：' , theta )\n",
    "print( '正弦值是：' , sin_v )\n",
    "print( '余弦值是：' , cos_v )\n",
    "print( '正切值是：' , tan_v )"
   ]
  },
  {
   "cell_type": "code",
   "execution_count": 232,
   "id": "fcd7d94a",
   "metadata": {},
   "outputs": [
    {
     "name": "stdout",
     "output_type": "stream",
     "text": [
      "x = [1 2 3]\n",
      "e^x = [ 2.71828183  7.3890561  20.08553692]\n",
      "2^x = [2 4 8]\n",
      "10^x =  [  10  100 1000]\n"
     ]
    }
   ],
   "source": [
    "# 指数函数\n",
    "x = np.arange(1,4)\n",
    "print( 'x =' , x )\n",
    "print( 'e^x =' , np.exp(x) )\n",
    "print( '2^x =' , 2**x )\n",
    "print( '10^x = ' , 10**x )"
   ]
  },
  {
   "cell_type": "code",
   "execution_count": 233,
   "id": "14f4a53b",
   "metadata": {},
   "outputs": [
    {
     "name": "stdout",
     "output_type": "stream",
     "text": [
      "x = [   1   10  100 1000]\n",
      "ln(x) = [0.         2.30258509 4.60517019 6.90775528]\n",
      "log2(x) = [0.         3.32192809 6.64385619 9.96578428]\n",
      "log10(x) = [0. 1. 2. 3.]\n"
     ]
    }
   ],
   "source": [
    "# 对数函数\n",
    "x = np.array( [1,10,100,1000] )\n",
    "print( 'x =' , x )\n",
    "print( 'ln(x) =' , np.log(x) )\n",
    "print( 'log2(x) =' , np.log(x) / np.log(2) )\n",
    "print( 'log10(x) =' , np.log(x) / np.log(10) )"
   ]
  },
  {
   "cell_type": "markdown",
   "id": "b446b89e",
   "metadata": {},
   "source": [
    "**求和求积**"
   ]
  },
  {
   "cell_type": "code",
   "execution_count": 236,
   "id": "481900ce",
   "metadata": {},
   "outputs": [
    {
     "name": "stdout",
     "output_type": "stream",
     "text": [
      "[[0 1 2 3 4]\n",
      " [5 6 7 8 9]]\n",
      "按维度一求和： [ 5  7  9 11 13]\n",
      "按维度二求和： [10 35]\n",
      "整体求和： 45\n",
      "按维度一求积： [ 0  6 14 24 36]\n",
      "按维度二求积： [    0 15120]\n",
      "整体求积： 0\n",
      "按维度一求平均： [2.5 3.5 4.5 5.5 6.5]\n",
      "按维度二求平均： [2. 7.]\n",
      "整体求平均： 4.5\n"
     ]
    }
   ],
   "source": [
    "print(np.arange(10).reshape(2,5))\n",
    "print( '按维度一求和：' , np.sum(np.arange(10).reshape(2,5),axis=0) ) # axis=0 行 axis=1 列\n",
    "print( '按维度二求和：' , np.sum(np.arange(10).reshape(2,5),axis=1) )\n",
    "print( '整体求和：' , np.sum(np.arange(10).reshape(2,5)) )\n",
    "print( '按维度一求积：' , np.prod(np.arange(10).reshape(2,5),axis=0) )\n",
    "print( '按维度二求积：' , np.prod(np.arange(10).reshape(2,5),axis=1) )\n",
    "print( '整体求积：' , np.prod(np.arange(10).reshape(2,5)) )\n",
    "print( '按维度一求平均：' , np.mean(np.arange(10).reshape(2,5),axis=0) )\n",
    "print( '按维度二求平均：' , np.mean(np.arange(10).reshape(2,5),axis=1) )\n",
    "print( '整体求平均：' , np.mean(np.arange(10).reshape(2,5)) )"
   ]
  },
  {
   "cell_type": "markdown",
   "id": "35155edb",
   "metadata": {},
   "source": [
    "**矩阵形状**"
   ]
  },
  {
   "cell_type": "code",
   "execution_count": 168,
   "id": "518f250a",
   "metadata": {},
   "outputs": [
    {
     "data": {
      "text/plain": [
       "(4, 1)"
      ]
     },
     "execution_count": 168,
     "metadata": {},
     "output_type": "execute_result"
    }
   ],
   "source": [
    "arr1 = np.array([[0],[1],[2],[3]])\n",
    "arr1.shape"
   ]
  },
  {
   "cell_type": "code",
   "execution_count": 169,
   "id": "e0a11488",
   "metadata": {},
   "outputs": [
    {
     "data": {
      "text/plain": [
       "(3,)"
      ]
     },
     "execution_count": 169,
     "metadata": {},
     "output_type": "execute_result"
    }
   ],
   "source": [
    "arr2 = np.array([1,2,3])\n",
    "arr2.shape"
   ]
  },
  {
   "cell_type": "code",
   "execution_count": 170,
   "id": "6565f230",
   "metadata": {},
   "outputs": [
    {
     "data": {
      "text/plain": [
       "array([[1, 2, 3],\n",
       "       [2, 3, 4],\n",
       "       [3, 4, 5],\n",
       "       [4, 5, 6]])"
      ]
     },
     "execution_count": 170,
     "metadata": {},
     "output_type": "execute_result"
    }
   ],
   "source": [
    "arr1+arr2"
   ]
  },
  {
   "cell_type": "markdown",
   "id": "b50586e9",
   "metadata": {},
   "source": [
    "**矩阵乘法**"
   ]
  },
  {
   "cell_type": "code",
   "execution_count": 171,
   "id": "b21ef7c2",
   "metadata": {},
   "outputs": [
    {
     "data": {
      "text/plain": [
       "array([[0],\n",
       "       [1],\n",
       "       [2],\n",
       "       [3]])"
      ]
     },
     "execution_count": 171,
     "metadata": {},
     "output_type": "execute_result"
    }
   ],
   "source": [
    "arr1"
   ]
  },
  {
   "cell_type": "code",
   "execution_count": 174,
   "id": "9e02f765",
   "metadata": {},
   "outputs": [
    {
     "name": "stdout",
     "output_type": "stream",
     "text": [
      "[[0 1 2 3]]\n"
     ]
    }
   ],
   "source": [
    "arr3 = arr1.T\n",
    "print(arr3)"
   ]
  },
  {
   "cell_type": "code",
   "execution_count": 175,
   "id": "1bf00cc1",
   "metadata": {},
   "outputs": [
    {
     "data": {
      "text/plain": [
       "array([[0, 0, 0, 0],\n",
       "       [0, 1, 2, 3],\n",
       "       [0, 2, 4, 6],\n",
       "       [0, 3, 6, 9]])"
      ]
     },
     "execution_count": 175,
     "metadata": {},
     "output_type": "execute_result"
    }
   ],
   "source": [
    "np.matmul(arr1,arr3)"
   ]
  },
  {
   "cell_type": "code",
   "execution_count": 176,
   "id": "d9aaffb3",
   "metadata": {},
   "outputs": [
    {
     "data": {
      "text/plain": [
       "array([[0, 0, 0, 0],\n",
       "       [0, 1, 2, 3],\n",
       "       [0, 2, 4, 6],\n",
       "       [0, 3, 6, 9]])"
      ]
     },
     "execution_count": 176,
     "metadata": {},
     "output_type": "execute_result"
    }
   ],
   "source": [
    "np.dot(arr1,arr3)"
   ]
  },
  {
   "cell_type": "markdown",
   "id": "e9416ad8",
   "metadata": {},
   "source": [
    "**布尔掩码**"
   ]
  },
  {
   "cell_type": "markdown",
   "id": "5a2ea7d3",
   "metadata": {},
   "source": [
    "若一个普通数组和一个布尔型数组的维度相同，可以将布尔型数组作为普通数组的掩码，这样可以对普通数组中的元素作筛选"
   ]
  },
  {
   "cell_type": "code",
   "execution_count": 241,
   "id": "7534a56f",
   "metadata": {},
   "outputs": [
    {
     "name": "stdout",
     "output_type": "stream",
     "text": [
      "[[ 1  2  3  4]\n",
      " [ 5  6  7  8]\n",
      " [ 9 10 11 12]]\n",
      "[[False False False False]\n",
      " [ True  True  True  True]\n",
      " [ True  True  True  True]]\n",
      "[ 5  6  7  8  9 10 11 12]\n"
     ]
    }
   ],
   "source": [
    "# 创建数组\n",
    "arr = np.arange(1,13).reshape(3,4)\n",
    "print(arr)\n",
    "# 数组与数字作比较\n",
    "print( arr > 4 )\n",
    "# 筛选出 arr > 4 的元素\n",
    "print( arr[ arr > 4 ] )"
   ]
  },
  {
   "cell_type": "code",
   "execution_count": 242,
   "id": "f8fadded",
   "metadata": {},
   "outputs": [
    {
     "name": "stdout",
     "output_type": "stream",
     "text": [
      "[1 2 3 4 5 6 7 8 9]\n",
      "[9 8 7 6 5 4 3 2 1]\n",
      "[False False False False False  True  True  True  True]\n",
      "[6 7 8 9]\n",
      "[4 3 2 1]\n"
     ]
    }
   ],
   "source": [
    "# 创建同维数组\n",
    "arr1 = np.arange(1,10)\n",
    "arr2 = np.flipud(arr1)\n",
    "print(arr1)\n",
    "print(arr2)\n",
    "# 同维度数组作比较\n",
    "print( arr1 > arr2)\n",
    "# 筛选出 arr1 > arr2 位置上的元素\n",
    "print( arr1[ arr1 > arr2 ] )\n",
    "print( arr2[ arr1 > arr2 ] )"
   ]
  },
  {
   "cell_type": "code",
   "execution_count": null,
   "id": "a4b58c09",
   "metadata": {},
   "outputs": [],
   "source": []
  }
 ],
 "metadata": {
  "kernelspec": {
   "display_name": "Python 3 (ipykernel)",
   "language": "python",
   "name": "python3"
  },
  "language_info": {
   "codemirror_mode": {
    "name": "ipython",
    "version": 3
   },
   "file_extension": ".py",
   "mimetype": "text/x-python",
   "name": "python",
   "nbconvert_exporter": "python",
   "pygments_lexer": "ipython3",
   "version": "3.7.16"
  }
 },
 "nbformat": 4,
 "nbformat_minor": 5
}
